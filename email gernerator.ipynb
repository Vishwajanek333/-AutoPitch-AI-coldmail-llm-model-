{
 "cells": [
  {
   "cell_type": "code",
   "execution_count": null,
   "id": "b5d055b2-35ba-40d5-b76e-4d9abf49d4b6",
   "metadata": {
    "ExecuteTime": {
     "end_time": "2025-06-08T10:59:25.271062Z",
     "start_time": "2025-06-08T10:59:23.404454Z"
    }
   },
   "outputs": [
    {
     "name": "stderr",
     "output_type": "stream",
     "text": [
      "USER_AGENT environment variable not set, consider setting it to identify your requests.\n"
     ]
    },
    {
     "name": "stdout",
     "output_type": "stream",
     "text": [
      "Juspay Careers | SDE - SytemsProducts FOR MERCHANTSPayment orchestrationRecurring PaymentsCheckout experience3DS & AuthenticationTokenisationPayoutsOffersPayment orchestrationMaximise acceptance rates by optimising transactions in real-time.No-code integrations to 300+ PSPs and local payment methodsAutomated & dynamic routing to maximise acceptance ratesNo-code configurations to build custom logics across parametersRecurring PaymentsOptimises recurring revenue and improve retention.Frictionless signups with Cards or Alternate Payment MethodsImprove retention with real-time card updaterImprove Authorisation Rates with Smart RetriesCheckout experienceRich 1-click checkout experiences built to maximise conversions.Payments experience that matches your brandBuild checkout flows and enable APMs without codeRun experiments with a robust A/B framework3DS & AuthenticationShift liability to the issuer and reduce customer friction with intelligent payment authenticationStreamline authentication globally & adapt to region-specific regulationsSeamless & adpative 3DS flow across all PSPsBuild your rules & control when 3DS is triggeredTokenisationImprove acceptance rates and reduce fraud with network tokenisationUse network tokens across any PSPPlug & play token vault with support for third-party vaultsLower your processing fees with network tokensPayoutsInstant & frictionless payouts via Juspay’s direct integrations to networks, banks and PSPs across the globe.Manage refunds, vendor payments, global payroll, and moreMultiple payout rails including cards, bank transfers, and walletsCreate & send payout links to customersOffersPSP agnostic no-code offers engine to create and manage customer offers.Source & support offers across payment methodsBuild every imaginable offer construct without codeCreate, schedule, and manage offers & rewardsResources OUR BLOGSUnifying global payments: How payment orchestrator drives enterprise growthExplore how payment orchestrators has evolved over the years and what a modern orchestrator, such as Juspay, can offer.Read article All blogsLEARN & DISCOVER BlogsDeep dive into Payments engineering and design principles. Learn about new product features, the latest in technology, payment solutions, and business initiatives. DocumentationJuspay developer documentation helps merchants to easily integrate Juspay products with an app or website for a seamless payment experience Case studiesExplore Juspay's case studies showcasing success stories from diverse industries like e-commerce, aviation, SaaS, and moreIntegrationsCompany COMPANY About usWe power enterprises worldwide to simplify payments and scale go-to-market. CareersJoin a team of engineers, artists, musicians, and designers, building payments infrastructure for the global economy.STAY IN TOUCH Contact usMeet our team to see how Juspay can help accelerate your Payments roadmap. NewsroomUpdates, Resources, and Announcementsfor the press.REGIONAPACEuropeIndiaLatin AmericaEnglish PotugûesMiddle EastNorth AmericaContact us REGIONAPACEuropeIndiaLatin AmericaEnglish PotugûesMiddle EastNorth AmericaProductsPayment orchestrationRecurring PaymentsCheckout experience3DS & AuthenticationTokenisationPayoutsOffersResourcesBlogsDocumentationCase studiesIntegrationsCompanyAbout usCareersContact usNewsroomContact UsSDE - SytemsJUSPAY is a Payments Exchange connecting merchants, payment providers and banks. With a deep focus on delivering seamless payments UX at scale, we are trusted partners for all major internet companies in India. After surpassing 200M SDK installs and building systems handling the highest payments traffic in India of 2000 TPS, we are now making the next stride to power end-to-end payments for India.99.999% Availability | 200 Mn+ Txns/day | 1-Click ExperienceWhat will you be doing?You’ll be working on the core problems pertaining to our centers of excellence. Each of our Centres of Excellence balances the dual of Framework Development (The Ideal) and Business Enablement (The Practical)Building advanced UI Frameworks to be the best payments SDK in the world Juspay’s ‘Hyper SDK’, a micro app platform enables native app experiences using JavasScript/PureScript. It is a well architectured system that enables isolated and parallel deployment of UI features rapidly; using dynamic over-the-air updates.Though it is similar to React Native, the quality and stability requirements of Hyper SDK should surpass typical open source projects. And it should have features that our multi billion$$ customers value as advanced tech.FRP Frameworks to build Immersive UI for Creation/Operations To ensure seamless customer experience specialists require a relentless focus on right information and actions. Complex dashboards and tools provide effective orchestration, enabling creators and optimizers to build and operate large scale financial products/systems. Can such highly critical operations be made immersive and delightful?With a wide range of complex business use cases, an array of visual ranges from a smartphone to LED walls and inspiration from fundamental technologies, we are looking at a plethora of aesthetic possibilities!With our growing scale and diverse use cases, we are looking for first-principle thinkers and problem solvers who can architect experiences!Apply if you are:Interested in architecting large scale frontend projects and frameworks using deep technologies like Functional Programming, FRP, Flux architecture etc.Interested in understanding the systems internals of rendering, GPU, View compositing etc. to create stable and fast UI frameworks (Android, iOS and Web)Passionate about unifying and developing reusable components/libraries using FP primitivesObsessed about creating pixel perfect UI and crafting delightful experiences. (Why not a framework developer can also develop an aesthetic eye for visual structure and movement - animations!!)Excited about building immersive experiences. Think Beyond 2D screens? ;Willing to be the part of the team that is building the payments backbone in India targeting 200 Mn+ txns/day with 99.9999% availabilityWhat do you get?It is your Day 0! And you will be working on production- critical projects and developing next gen frameworksHARDDD Problems that push you to the edge of solutioningYou’ll unleash your 10x potential in Juspay FP ecosystemWhy work in Juspay?Payments.. big deal? Yes, it is a big deal. The wind is strongly blowing in favor of electronic payments - India wants to buy/order everything online, go cashless (regulation) and can’t have enough of using smartphones! Startups and internet businesses currently see a payment’ success rate of 60% ( 40 out of 100 people fail during the payments process!). These businesses that will define our future are absolutely dependent on solving digital payments. Big industry with bigger problems to solve!How can Engineering solve this? Payments is a complex ecosystem involving banks, RBI regulations, payment networks, telecom infrastructure, online and offline merchants. There is no way to align all these stars without radical engineering innovation. Talk to us about it.What does Juspay offer? You get the opportunity to work in a free liberal environment with some of the best engineers and entrepreneurs. We live & breathe the art of building amazing products with impeccable engineering. We have heavily invested on new methods of engineering using Functional Programming/FRP, Haskell/Purescript and Scalable Data Systems. We want more innovators and a little bit of madness to take it further. For us office is like home with everything needed to make us comfortably code all day and chill out too. We have a full size piano, drums and a Shruti box if you are into music :) Lots of books, pictionary and interesting people to talk to about varied subjects - art, philosophy and of course about how to do the highest feats of engineering/design. We take an active interest in helping people reach their highest potential.CompanyAbout UsCase StudiesNewsroomCareersContactCompliancesVulnerability DisclosurePayment AggregationPCI DSS 4.0ISO 27001:2022SOC 2 Type 2ResourcesMerchant HomeAPI DocumentationBlogFind us onCopyright 2025.Juspay Technologies.All rights reserved.Privacy PolicyTerms of Use\n"
     ]
    }
   ],
   "source": [
    "from langchain_community.document_loaders import WebBaseLoader # 2 cell\n",
    "\n",
    "loader = WebBaseLoader(\"https://juspay.io/careers/sde-systems\")# here  put the websit link which you want to extract inforamtion\n",
    "page_data=loader.load().pop().page_content\n",
    "print(page_data)"
   ]
  },
  {
   "cell_type": "code",
   "execution_count": null,
   "id": "facbba30-a2ac-41e0-ae42-3ee594a8735e",
   "metadata": {},
   "outputs": [
    {
     "name": "stdout",
     "output_type": "stream",
     "text": [
      "The first person to walk on the Moon was Neil Armstrong. He stepped out of the lunar module Eagle and onto the Moon's surface on July 20, 1969, during the Apollo 11 mission. Armstrong famously declared, \"That's one small step for man, one giant leap for mankind,\" as he became the first human to set foot on the Moon.\n"
     ]
    }
   ],
   "source": [
    "\n",
    "from langchain_groq import ChatGroq # 1cell\n",
    "llm = ChatGroq(\n",
    "    temperature=0,\n",
    "    groq_api_key ='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',\n",
    "    model =\"llama-3.3-70b-versatile\" \n",
    ")\n",
    "response = llm.invoke(\"the first person on moon  was..\")\n",
    "print(response.content)\n",
    "\n"
   ]
  },
  {
   "cell_type": "code",
   "execution_count": null,
   "id": "167ad26f-6027-4272-855f-89808065a5bd",
   "metadata": {},
   "outputs": [
    {
     "name": "stdout",
     "output_type": "stream",
     "text": [
      "```json\n",
      "{\n",
      "  \"role\": \"SDE - Systems\",\n",
      "  \"experience\": \"Not specified\",\n",
      "  \"skills\": [\n",
      "    \"Functional Programming\",\n",
      "    \"FRP\",\n",
      "    \"Flux architecture\",\n",
      "    \"GPU\",\n",
      "    \"View compositing\",\n",
      "    \"FP primitives\",\n",
      "    \"JavaScript\",\n",
      "    \"PureScript\",\n",
      "    \"Haskell\"\n",
      "  ],\n",
      "  \"description\": \"Juspay is looking for a Software Development Engineer - Systems to work on core problems pertaining to their centers of excellence. The ideal candidate will have experience in architecting large-scale frontend projects and frameworks using deep technologies. They will be responsible for building advanced UI frameworks, FRP frameworks, and immersive UI for creation and operations.\"\n",
      "}\n",
      "```\n"
     ]
    },
    {
     "data": {
      "text/plain": [
       "str"
      ]
     },
     "execution_count": 17,
     "metadata": {},
     "output_type": "execute_result"
    }
   ],
   "source": [
    "from langchain_core.prompts import PromptTemplate\n",
    "\n",
    "prompt_extract = PromptTemplate.from_template(\n",
    "    \"\"\"\n",
    "    ### SCRAPED TEXT FROM WEBSITE:\n",
    "    {page_data}\n",
    "    ###Instruction:\n",
    "    The scraped text is from the carrer `s page of a website.\n",
    "    your job is to extract the job postings  and return them in json foramtcontaing \n",
    "    following keys:`role','experience` ,`skills`  and `descrption`.\n",
    "    only return the valid json .\n",
    "    ###valid json  (no preamble):\n",
    "    \"\"\"\n",
    ") \n",
    "chain_extract = prompt_extract | llm\n",
    "res = chain_extract.invoke(input = {'page_data':page_data})\n",
    "print(res.content)\n",
    "type(res.content) # if its in str convert to \n"
   ]
  },
  {
   "cell_type": "code",
   "execution_count": null,
   "id": "5b13e64b",
   "metadata": {},
   "outputs": [],
   "source": []
  },
  {
   "cell_type": "code",
   "execution_count": null,
   "id": "26c3f964-860b-49ef-8fbb-ca379e18c7be",
   "metadata": {},
   "outputs": [
    {
     "data": {
      "text/plain": [
       "{'role': 'SDE - Systems',\n",
       " 'experience': 'Not specified',\n",
       " 'skills': ['Functional Programming',\n",
       "  'FRP',\n",
       "  'Flux architecture',\n",
       "  'GPU',\n",
       "  'View compositing',\n",
       "  'FP primitives',\n",
       "  'JavaScript',\n",
       "  'PureScript',\n",
       "  'Haskell'],\n",
       " 'description': 'Juspay is looking for a Software Development Engineer - Systems to work on core problems pertaining to their centers of excellence. The ideal candidate will have experience in architecting large-scale frontend projects and frameworks using deep technologies. They will be responsible for building advanced UI frameworks, FRP frameworks, and immersive UI for creation and operations.'}"
      ]
     },
     "execution_count": 29,
     "metadata": {},
     "output_type": "execute_result"
    }
   ],
   "source": [
    "from langchain_core.output_parsers import JsonOutputParser\n",
    "json_parser = JsonOutputParser()\n",
    "json_res =json_parser.parse(res.content)\n",
    "json_res\n"
   ]
  },
  {
   "cell_type": "code",
   "execution_count": null,
   "id": "df7fa733-6867-47e5-aa13-277dccb93193",
   "metadata": {},
   "outputs": [
    {
     "data": {
      "text/plain": [
       "list"
      ]
     },
     "execution_count": 23,
     "metadata": {},
     "output_type": "execute_result"
    }
   ],
   "source": [
    "type(json_res)"
   ]
  },
  {
   "cell_type": "code",
   "execution_count": null,
   "id": "e0df3994-1ccd-4165-883b-e8c20346d348",
   "metadata": {},
   "outputs": [
    {
     "name": "stdout",
     "output_type": "stream",
     "text": [
      "C:\\Users\\Vishw\\cold_email generator\n"
     ]
    }
   ],
   "source": [
    "import os\n",
    "print(os.getcwd())\n",
    "\n"
   ]
  },
  {
   "cell_type": "code",
   "execution_count": null,
   "id": "61f9709a-8a5c-4a02-95da-f56aa16ce05f",
   "metadata": {},
   "outputs": [
    {
     "name": "stdout",
     "output_type": "stream",
     "text": [
      "                           Techstack                                  Links\n",
      "0            React, Node.js, MongoDB    https://example.com/react-portfolio\n",
      "1           Angular,.NET, SQL Server  https://example.com/angular-portfolio\n",
      "2  Vue.js, Ruby on Rails, PostgreSQL      https://example.com/vue-portfolio\n",
      "3              Python, Django, MySQL   https://example.com/python-portfolio\n",
      "4          Java, Spring Boot, Oracle     https://example.com/java-portfolio\n"
     ]
    }
   ],
   "source": [
    "import pandas as pd\n",
    "\n",
    "df = pd.read_csv(\"my_portfolile.csv\")  # Use the exact filename you found\n",
    "print(df.head())\n"
   ]
  },
  {
   "cell_type": "code",
   "execution_count": null,
   "id": "e5e97c25-a1b7-46a6-b2a1-becc7d3ae78c",
   "metadata": {},
   "outputs": [],
   "source": [
    "import chromadb\n",
    "import uuid\n",
    "\n",
    "# Initialize client (fix typo PersistentClient)\n",
    "client = chromadb.PersistentClient(path='vectorstore')\n",
    "\n",
    "# Get or create collection\n",
    "collection = client.get_or_create_collection(name=\"portfolio\")\n",
    "\n",
    "# Check if collection is empty\n",
    "if collection.count() == 0:\n",
    "    for _, row in df.iterrows():\n",
    "        # Add documents, metadata, and unique IDs (all as lists)\n",
    "        collection.add(\n",
    "            documents=[row[\"Techstack\"]],\n",
    "            metadatas=[{\"link\": row[\"Links\"]}],\n",
    "            ids=[str(uuid.uuid4())]# it  will create the unique data\n",
    "        )\n",
    "        # it now create the  vectorstore in the local juptery file to it.\n"
   ]
  },
  {
   "cell_type": "code",
   "execution_count": null,
   "id": "766359a3-888a-4d43-9543-0425054cc7fa",
   "metadata": {},
   "outputs": [
    {
     "data": {
      "text/plain": [
       "[[{'link': 'https://example.com/ml-python-portfolio'},\n",
       "  {'link': 'https://example.com/python-portfolio'}],\n",
       " [{'link': 'https://example.com/react-portfolio'},\n",
       "  {'link': 'https://example.com/react-native-portfolio'}]]"
      ]
     },
     "execution_count": 24,
     "metadata": {},
     "output_type": "execute_result"
    }
   ],
   "source": [
    "# its  about the  getting the  related the  links to requested jobs\n",
    "links = collection.query(query_texts=[\"Experience in python \",\"expertise in react\"],n_results = 2).get('metadatas')\n",
    "links"
   ]
  },
  {
   "cell_type": "code",
   "execution_count": null,
   "id": "ea5ee2f6-fe0a-40eb-9b15-e198cdab5477",
   "metadata": {},
   "outputs": [
    {
     "name": "stdout",
     "output_type": "stream",
     "text": [
      "[{'role': 'SDE - Systems', 'experience': 'Not specified', 'skills': ['Functional Programming', 'FRP', 'Flux architecture', 'GPU', 'View compositing', 'FP primitives', 'JavaScript', 'PureScript', 'Haskell'], 'description': 'Juspay is looking for a Software Development Engineer - Systems to work on core problems pertaining to their centers of excellence. The ideal candidate will have experience in architecting large-scale frontend projects and frameworks using deep technologies. They will be responsible for building advanced UI frameworks, FRP frameworks, and immersive UI for creation and operations.'}]\n",
      "<class 'list'>\n"
     ]
    }
   ],
   "source": [
    "from langchain_core.output_parsers import JsonOutputParser\n",
    "\n",
    "# After getting res from chain invocation\n",
    "if isinstance(res.content, str):\n",
    "    json_parser = JsonOutputParser()\n",
    "    json_res = json_parser.parse(res.content)\n",
    "else:\n",
    "    json_res = res.content\n",
    "\n",
    "# Make sure json_res is a list\n",
    "if not isinstance(json_res, list):\n",
    "    json_res = [json_res]\n",
    "\n",
    "print(json_res)\n",
    "print(type(json_res))\n"
   ]
  },
  {
   "cell_type": "code",
   "execution_count": null,
   "id": "49049e10-9254-4f1a-be90-9c61947f3a04",
   "metadata": {},
   "outputs": [],
   "source": [
    "from langchain.prompts import PromptTemplate\n"
   ]
  },
  {
   "cell_type": "code",
   "execution_count": null,
   "id": "c1f2a779-0304-4e4c-9c9a-2cd24d674665",
   "metadata": {},
   "outputs": [
    {
     "name": "stdout",
     "output_type": "stream",
     "text": [
      "Subject: Expert Solutions for Advanced UI Frameworks and Scalable Data Systems\n",
      "\n",
      "Dear Hiring Manager at Juspay,\n",
      "\n",
      "I came across the job posting for a Software Development Engineer - Systems at Juspay, and I'm excited to introduce Goldmanscas, an AI software consulting company that can help you address the core problems pertaining to your centers of excellence. With our expertise in architecting large-scale frontend projects and frameworks using deep technologies, I believe we can be a great fit for your needs.\n",
      "\n",
      "Our team has extensive experience in building advanced UI frameworks, FRP frameworks, and immersive UI for creation and operations. We've worked on similar projects, such as [https://example.com/project1](https://example.com/project1), where we developed a scalable and efficient UI framework using Haskell and Purescript, and [https://example.com/project2](https://example.com/project2), where we implemented a Flux architecture for a large-scale frontend project.\n",
      "\n",
      "We're well-versed in Functional Programming, FRP, and FP primitives, which are essential skills for this role. Our expertise in GPU and View compositing can also help you optimize your UI performance. Additionally, our experience with Scalable Data Systems can help you build efficient and scalable solutions.\n",
      "\n",
      "I'd love to discuss how Goldmanscas can help Juspay achieve its goals. Please take a look at our portfolio, which includes:\n",
      "\n",
      "* [https://example.com/project3](https://example.com/project3): A case study on building a large-scale frontend framework using deep technologies\n",
      "* [https://example.com/project4](https://example.com/project4): A whitepaper on optimizing UI performance using GPU and View compositing\n",
      "* [https://example.com/project5](https://example.com/project5): A webinar on building immersive UI using FRP and Flux architecture\n",
      "\n",
      "If you're interested in learning more about how Goldmanscas can help Juspay, I'd be happy to set up a call to discuss further.\n",
      "\n",
      "Best regards,\n",
      "\n",
      "Vishwa\n",
      "Business Development Executive\n",
      "Goldmanscas\n"
     ]
    }
   ],
   "source": [
    "\n",
    "\n",
    "# promt email not: {} inside is given is arrugments\n",
    "from langchain.prompts import PromptTemplate\n",
    "\n",
    "prompt_email = PromptTemplate.from_template(\n",
    "    \"\"\"\n",
    "    Job Description:\n",
    "    {job_description}\n",
    "\n",
    "    ### Instruction:\n",
    "    I am Vishwa, a Business Development Executive at Goldmanscas. We have an AI software consulting company. Over the years, we have empowered numerous enterprises with tailored solutions, fostering process optimization, cost reduction, and heightened overall efficiency.\n",
    "\n",
    "    Your task is to write a cold email to the client regarding the job mentioned above, fulfilling their needs. Also, include the most relevant items from the following portfolio links to showcase your expertise. Remember, you are Vishwa.\n",
    "\n",
    "    Do not provide any preamble.\n",
    "\n",
    "    ### EMAIL (NO PREAMBLE):\n",
    "    \"\"\"\n",
    ")\n",
    "chain_extract = prompt_email | llm\n",
    "res = chain_extract.invoke({\"job_description\": str(job), \"linklist\": links})\n",
    "print(res.content)\n",
    "\n",
    "\n",
    "\n"
   ]
  }
 ],
 "metadata": {
  "kernelspec": {
   "display_name": "Python 3 (ipykernel)",
   "language": "python",
   "name": "python3"
  },
  "language_info": {
   "codemirror_mode": {
    "name": "ipython",
    "version": 3
   },
   "file_extension": ".py",
   "mimetype": "text/x-python",
   "name": "python",
   "nbconvert_exporter": "python",
   "pygments_lexer": "ipython3",
   "version": "3.12.3"
  }
 },
 "nbformat": 4,
 "nbformat_minor": 5
}
