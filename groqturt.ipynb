{
 "cells": [
  {
   "cell_type": "code",
   "execution_count": 1,
   "id": "4332a8c3-b119-4216-a9ce-e8a578e87b01",
   "metadata": {},
   "outputs": [
    {
     "name": "stdout",
     "output_type": "stream",
     "text": [
      "The first person to walk on the Moon was Neil Armstrong. He stepped out of the lunar module Eagle and onto the Moon's surface on July 20, 1969, during the Apollo 11 mission. Armstrong famously declared, \"That's one small step for man, one giant leap for mankind,\" as he became the first human to set foot on the Moon.\n"
     ]
    }
   ],
   "source": [
    "from langchain_groq import ChatGroq # 1cell\n",
    "llm = ChatGroq(\n",
    "    temperature=0,\n",
    "    groq_api_key ='add your groq api key',\n",
    "    model =\"llama-3.3-70b-versatile\"\n",
    ")\n",
    "response = llm.invoke(\"the first person on moon  was..\")\n",
    "print(response.content)"
   ]
  }
 ],
 "metadata": {
  "kernelspec": {
   "display_name": "Python 3 (ipykernel)",
   "language": "python",
   "name": "python3"
  },
  "language_info": {
   "codemirror_mode": {
    "name": "ipython",
    "version": 3
   },
   "file_extension": ".py",
   "mimetype": "text/x-python",
   "name": "python",
   "nbconvert_exporter": "python",
   "pygments_lexer": "ipython3",
   "version": "3.12.3"
  }
 },
 "nbformat": 4,
 "nbformat_minor": 5
}
